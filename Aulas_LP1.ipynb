{
  "nbformat": 4,
  "nbformat_minor": 0,
  "metadata": {
    "colab": {
      "provenance": [],
      "authorship_tag": "ABX9TyMOsPgxx/xKWRVgYrHp9aOE",
      "include_colab_link": true
    },
    "kernelspec": {
      "name": "python3",
      "display_name": "Python 3"
    },
    "language_info": {
      "name": "python"
    }
  },
  "cells": [
    {
      "cell_type": "markdown",
      "metadata": {
        "id": "view-in-github",
        "colab_type": "text"
      },
      "source": [
        "<a href=\"https://colab.research.google.com/github/fernando-carloto/arquivos_aulas_LinguagemProgramacaoI/blob/main/Aulas_LP1.ipynb\" target=\"_parent\"><img src=\"https://colab.research.google.com/assets/colab-badge.svg\" alt=\"Open In Colab\"/></a>"
      ]
    },
    {
      "cell_type": "markdown",
      "source": [
        "#Exercício 1 - Um bom programa Inicial"
      ],
      "metadata": {
        "id": "IHTDyklmqhqL"
      }
    },
    {
      "cell_type": "code",
      "source": [
        "print(\"Hello World!\")\n",
        "print(\"Hello Again\")\n",
        "print(\"I like typing this.\")\n",
        "print(\"This is fun.\")\n",
        "print('Yay! Printing.')\n",
        "print(\"I'd much rather you 'not'.\")\n",
        "print('I \"said\" do not touch this.')"
      ],
      "metadata": {
        "id": "s8suHgUvYeJl"
      },
      "execution_count": null,
      "outputs": []
    },
    {
      "cell_type": "markdown",
      "source": [
        "# Exercicio 2 - Comentários e Cerquilhas"
      ],
      "metadata": {
        "id": "7RskPx30Yiwm"
      }
    },
    {
      "cell_type": "code",
      "source": [
        "#Um comentário assim você pode ler mais tarde\n",
        "print(\"I could have code like this.\") #e o comentário assim\n",
        "#print(\"This won't run.\")\n",
        "print(\"This will run.\")"
      ],
      "metadata": {
        "id": "B4iGMFppZF--"
      },
      "execution_count": null,
      "outputs": []
    },
    {
      "cell_type": "markdown",
      "source": [
        "# Exercício 3 - Números e Matemática"
      ],
      "metadata": {
        "id": "w-zgmn2pZQJ_"
      }
    },
    {
      "cell_type": "code",
      "source": [
        "print(\"I will now count my chickens:\")\n",
        "print(\"Hens\", 25 + 30 / 6)\n",
        "print(\"Roosters\", 100 - 25 * 3 % 4)\n",
        "print(\"Now I will count the eggs:\")\n",
        "print(3 + 2 + 1 - 5 + 4 % 2 - 1 / 4 + 6)\n",
        "print(\"Is it true that 3 + 2 < 5 - 7?\")\n",
        "print(3 + 2 < 5 - 7)\n",
        "print(\"What is 3 + 2?\", 3 + 2)\n",
        "print(\"What is 5 - 7?\", 5 - 7)\n",
        "print(\"Oh, that's why it's False.\")\n",
        "print(\"How about some more.\")\n",
        "\n",
        "print(\"Is it greater?\", 5 > -2)\n",
        "print(\"Is it greater or equal?\", 5 >= -2)\n",
        "print(\"Is it less or equal?\", 5 <= -2)"
      ],
      "metadata": {
        "id": "0qvi9qGkZXTt",
        "colab": {
          "base_uri": "https://localhost:8080/"
        },
        "outputId": "fa7ca11e-9a1c-45eb-c73a-f07cfc5d041c"
      },
      "execution_count": 1,
      "outputs": [
        {
          "output_type": "stream",
          "name": "stdout",
          "text": [
            "I will now count my chickens:\n",
            "Hens 30.0\n",
            "Roosters 97\n",
            "Now I will count the eggs:\n",
            "6.75\n",
            "Is it true that 3 + 2 < 5 - 7?\n",
            "False\n",
            "What is 3 + 2? 5\n",
            "What is 5 - 7? -2\n",
            "Oh, that's why it's False.\n",
            "How about some more.\n",
            "Is it greater? True\n",
            "Is it greater or equal? True\n",
            "Is it less or equal? False\n"
          ]
        }
      ]
    },
    {
      "cell_type": "markdown",
      "source": [
        "# Exercício 4 - Variáveis e nomes"
      ],
      "metadata": {
        "id": "-0cjJyzhZjc4"
      }
    },
    {
      "cell_type": "code",
      "source": [
        "cars = 100\n",
        "space_in_a_car = 4.0\n",
        "drivers = 30\n",
        "passengers = 90\n",
        "cars_not_driven = cars - drivers\n",
        "cars_driven = drivers\n",
        "carpool_capacity = cars_driven * space_in_a_car\n",
        "average_passengers_per_car = passengers / cars_driven\n",
        "\n",
        "print(\"There are\", cars, \"cars available.\")\n",
        "print(\"There are only\", drivers, \"drivers available.\")\n",
        "print(\"There will be\", cars_not_driven, \"empty cars today.\")\n",
        "print(\"We can transport\", carpool_capacity, \"people today.\")\n",
        "print(\"We have\", passengers, \"to carpool today.\")\n",
        "print(\"We need to put about\", average_passengers_per_car, \"in each car.\")\n",
        "print(10/5)"
      ],
      "metadata": {
        "id": "D_Vo0Rz-Zp2l"
      },
      "execution_count": null,
      "outputs": []
    },
    {
      "cell_type": "markdown",
      "source": [
        "#Exercício 5 - Mais variáveis e impressão\n",
        "Concatenação de variáveis mais exto, uma forma de usar a saida de dados com variáveis;"
      ],
      "metadata": {
        "id": "bRC0u7YoBnhs"
      }
    },
    {
      "cell_type": "code",
      "execution_count": null,
      "metadata": {
        "id": "Cw8RQcpQc4Oe",
        "colab": {
          "base_uri": "https://localhost:8080/"
        },
        "outputId": "71f6c5cd-c5ed-4cd3-efe6-ab9ca8e5620a",
        "collapsed": true
      },
      "outputs": [
        {
          "output_type": "stream",
          "name": "stdout",
          "text": [
            "Let's talk about Zed A Shaw.\n",
            "He's 74 inches tall.\n",
            "He's 180 pounds heavy.\n",
            "Actually that's not too heavy.\n",
            "He's got Blue eyes and Brown hair.\n",
            "His teeth are usually White depending on the coffee.\n",
            "If I add 32, 74, and 180 I get 286.\n"
          ]
        }
      ],
      "source": [
        "Name = 'Zed A Shaw'\n",
        "Age = 32\n",
        "Height = 74\n",
        "Weight = 180\n",
        "Eyes = 'Blue'\n",
        "Teeth = 'White'\n",
        "Hair = 'Brown'\n",
        "print(f\"Let's talk about {Name}.\")\n",
        "print(f\"He's {Height} inches tall.\")\n",
        "print(f\"He's {Weight} pounds heavy.\")\n",
        "print(\"Actually that's not too heavy.\")\n",
        "print(f\"He's got {Eyes} eyes and {Hair} hair.\")\n",
        "print(f\"His teeth are usually {Teeth} depending on the coffee.\")\n",
        "total = Age + Height + Weight\n",
        "print(f\"If I add {Age}, {Height}, and {Weight} I get {total}.\")"
      ]
    },
    {
      "cell_type": "markdown",
      "source": [
        "#Exercício 6 - Strings e texto\n",
        "Algumas variáveis, um pouco complexas um pouco de trabalho com Strings dentro de Strings"
      ],
      "metadata": {
        "id": "-Rzi63TYmUk_"
      }
    },
    {
      "cell_type": "code",
      "source": [
        "type_of_people = 10\n",
        "x =  f\"There are {type_of_people} types of people.\"\n",
        "binary = \"binary\"\n",
        "do_not = \"don't\"\n",
        "y = f\"Those who know {binary} and those who {do_not}.\"\n",
        "print(x)\n",
        "print(y)\n",
        "print(f\"I said: {x}\")\n",
        "print(f\"I also said: '{y}'\")\n",
        "hilarious = False\n",
        "joke_evaluation = \"Isn't that joke so funny?! {}\"\n",
        "print(joke_evaluation.format(hilarious))\n",
        "w = \"This is the left side of...\"\n",
        "e = \"a string with a right side.\"\n",
        "print(w + e)\n"
      ],
      "metadata": {
        "id": "jA9G_O80mUTH",
        "colab": {
          "base_uri": "https://localhost:8080/"
        },
        "outputId": "4e423e2e-2d84-47c8-c104-fd2351850b43"
      },
      "execution_count": null,
      "outputs": [
        {
          "output_type": "stream",
          "name": "stdout",
          "text": [
            "There are 10 types of people.\n",
            "Those who know binary and those who don't.\n",
            "I said: There are 10 types of people.\n",
            "I also said: 'Those who know binary and those who don't.'\n",
            "Isn't that joke so funny?! False\n",
            "This is the left side of...a string with a right side.\n"
          ]
        }
      ]
    },
    {
      "cell_type": "markdown",
      "source": [
        "# Exercício 7 - Mais impressão Apenas para praticar a digitação e alguns conceitos sobre impressão de strings"
      ],
      "metadata": {
        "id": "DGvAo1EvYIim"
      }
    },
    {
      "cell_type": "code",
      "source": [
        "print(\"Mary had a little lamb.\")\n",
        "print(\"Its fleece was white as {}.\".format('snow'))\n",
        "print(\"And everywhere that Mary went.\")\n",
        "print(\".\"*10)\n",
        "\n",
        "end1=\"C\"\n",
        "end2=\"h\"\n",
        "end3=\"e\"\n",
        "end4=\"e\"\n",
        "end5=\"s\"\n",
        "end6=\"e\"\n",
        "end7=\"B\"\n",
        "end8=\"u\"\n",
        "end9=\"r\"\n",
        "end10=\"g\"\n",
        "end11=\"e\"\n",
        "end12=\"r\"\n",
        "\n",
        "print(end1 + end2 + end3 + end4 + end5 + end6, end=' ')\n",
        "print(end7 + end8 + end9 + end10 + end11 + end12)"
      ],
      "metadata": {
        "id": "ELMEbr2bpHDL",
        "colab": {
          "base_uri": "https://localhost:8080/"
        },
        "outputId": "bfadb1f6-7ebd-4687-938e-d6c708a9cbd8"
      },
      "execution_count": null,
      "outputs": [
        {
          "output_type": "stream",
          "name": "stdout",
          "text": [
            "Mary had a little lamb.\n",
            "Its fleece was white as snow.\n",
            "And everywhere that Mary went.\n",
            "..........\n",
            "Cheese Burger\n"
          ]
        }
      ]
    },
    {
      "cell_type": "markdown",
      "source": [
        "# Exercício 8 - Imprimindo, imprimindo Formatação de strings de forma mais complexa"
      ],
      "metadata": {
        "id": "YKkkL_tzX6oG"
      }
    },
    {
      "cell_type": "code",
      "source": [
        "formatter = \"{} {} {} {}\"\n",
        "print(formatter.format(1, 2, 3, 4))\n",
        "print(formatter.format(\"one\", \"two\", \"three\", \"four\"))\n",
        "print(formatter.format(True, False, False, True))\n",
        "print(formatter.format(formatter, formatter, formatter, formatter))\n",
        "print(formatter.format(\n",
        "\"Try your\",\n",
        "\"Own text here\",\n",
        "\"Maybe a poem\",\n",
        "\"Or a song about fear\"\n",
        "))"
      ],
      "metadata": {
        "id": "GFsf4kYQqHvy",
        "colab": {
          "base_uri": "https://localhost:8080/"
        },
        "outputId": "7bf02fe6-aad3-4c24-dd0b-bb8acd425089"
      },
      "execution_count": null,
      "outputs": [
        {
          "output_type": "stream",
          "name": "stdout",
          "text": [
            "1 2 3 4\n",
            "one two three four\n",
            "True False False True\n",
            "{} {} {} {} {} {} {} {} {} {} {} {} {} {} {} {}\n",
            "Try your Own text here Maybe a poem Or a song about fear\n"
          ]
        }
      ]
    },
    {
      "cell_type": "markdown",
      "source": [
        "# Exercício 9 -Imprimindo, imprimindo, imprimindo"
      ],
      "metadata": {
        "id": "Omxv7F1pq_dj"
      }
    },
    {
      "cell_type": "code",
      "source": [
        "days = \"Mon Tue Wed Thu Fri Sat Sun\"\n",
        "months = 'Jan\\nFeb\\nMar\\nApr\\nMay\\nJun\\nJul\\nAug'\n",
        "print(\"Here are the days: \", days)\n",
        "print(\"Here are the months: \", months)\n",
        "print(\"\"\"\n",
        "There is something going on here.\n",
        "With the three double-quotes.\n",
        "We'll be able to type as much as we like.\n",
        "Even 4 lines if we want, or 5, or 6.\n",
        "\"\"\")\n"
      ],
      "metadata": {
        "id": "u1_xFo18rLtR"
      },
      "execution_count": null,
      "outputs": []
    },
    {
      "cell_type": "markdown",
      "source": [
        "# Exercício 10 - O que foi isso?"
      ],
      "metadata": {
        "id": "rGr4U08TsBxh"
      }
    },
    {
      "cell_type": "code",
      "source": [
        "tabby_cat = \"\\tI'm tabbed in.\"\n",
        "persian_cat = \"Im split\\non a line.\"\n",
        "backslash_cat = \"I'm \\\\ a \\\\ cat.\"\n",
        "fat_cat = \"\"\"\n",
        "I'll do a list:\n",
        "\\t* Cat food\n",
        "\\t* Fishies\n",
        "\\t* Catnip\\n\\t* Grass\n",
        "\"\"\"\n",
        "print(tabby_cat)\n",
        "print(persian_cat)\n",
        "print(backslash_cat)\n",
        "print(fat_cat)"
      ],
      "metadata": {
        "id": "Hpsk2_SksKsY"
      },
      "execution_count": null,
      "outputs": []
    },
    {
      "cell_type": "code",
      "source": [],
      "metadata": {
        "id": "3N9Colh1sh3c"
      },
      "execution_count": null,
      "outputs": []
    },
    {
      "cell_type": "markdown",
      "source": [
        "# Exercício 11 -  Fazendo perguntas"
      ],
      "metadata": {
        "id": "NWruOFZmsgmo"
      }
    },
    {
      "cell_type": "code",
      "source": [
        "print(\"How old are you?\", end=' ')\n",
        "age = input()\n",
        "print(\"How tall are you?\", end=' ')\n",
        "height = input()\n",
        "print(\"How much do you weigh?\", end=' ')\n",
        "weight = input()\n",
        "\n",
        "print(f\"So, you're {age}old, {height} tall and {weight} heavy.\")"
      ],
      "metadata": {
        "id": "vc11c5XksnCw"
      },
      "execution_count": null,
      "outputs": []
    },
    {
      "cell_type": "markdown",
      "source": [
        "# Exercício 12 - Perguntando as pessoas"
      ],
      "metadata": {
        "id": "Vs1Ql1BSwQAk"
      }
    },
    {
      "cell_type": "code",
      "source": [
        "age=input(\"How old are you? \")\n",
        "height=input(\"How tall are you? \")\n",
        "weight=input(\"How much do you weigh? \")\n",
        "print(f\"So, you're {age} old, {height} tall and {weight} heavy.\")"
      ],
      "metadata": {
        "id": "QD3WbHJhwWb7"
      },
      "execution_count": null,
      "outputs": []
    },
    {
      "cell_type": "markdown",
      "source": [
        "# Exercício 13 - Instrução IF"
      ],
      "metadata": {
        "id": "xpkKmoGowd_j"
      }
    },
    {
      "cell_type": "code",
      "source": [
        "people = 20\n",
        "cats = 30\n",
        "dogs = 15\n",
        "if people < cats:\n",
        "    print(\"Too many cats! The world is doomed!\")\n",
        "if people > cats:\n",
        "    print(\"Not many cats! The world is saved!\")\n",
        "if people<dogs:\n",
        "  print(\"The world is drooled on!\")\n",
        "if people>dogs:\n",
        "  print(\"The world is dry!\")\n",
        "dogs += 5\n",
        "if people >= dogs:\n",
        "  print(\"People are greater than or equal to dogs.\")\n",
        "if people <= dogs:\n",
        "  print(\"People are less than or equal to dogs.\")\n",
        "if people == dogs:\n",
        "  print(\"People are dogs.\")"
      ],
      "metadata": {
        "colab": {
          "base_uri": "https://localhost:8080/"
        },
        "id": "OodeLowiwm1b",
        "outputId": "8b226d2c-b7e1-402d-ba9a-ce4c370385a2"
      },
      "execution_count": null,
      "outputs": [
        {
          "output_type": "stream",
          "name": "stdout",
          "text": [
            "Too many cats! The world is doomed!\n",
            "The world is dry!\n",
            "People are greater than or equal to dogs.\n",
            "People are less than or equal to dogs.\n",
            "People are dogs.\n"
          ]
        }
      ]
    },
    {
      "cell_type": "markdown",
      "source": [
        "# Exercicio 14 - Else e IF"
      ],
      "metadata": {
        "id": "nzg5ErPRC_Bf"
      }
    },
    {
      "cell_type": "code",
      "source": [
        "people =30\n",
        "cars = 40\n",
        "trucks = 15\n",
        "if cars > people:\n",
        "    print(\"We should take the cars.\")\n",
        "elif cars < people:\n",
        "    print(\"We should not take the cars.\")\n",
        "else:\n",
        "    print(\"We can't decide.\")\n",
        "if trucks > crs:\n",
        "    print(\"That's too many trucks.\")\n",
        "elif trucks < cars:\n",
        "    print(\"Maybe we could take the trucks.\")\n",
        "else:\n",
        "    print(\"We still can't decide.\")\n",
        "if people > trucks:\n",
        "    print(\"Alright, let's just take the trucks.\")\n",
        "else:\n",
        "    print(\"Fine, let's stay home then.\")"
      ],
      "metadata": {
        "id": "8BT-ZfwW3fFM"
      },
      "execution_count": null,
      "outputs": []
    },
    {
      "cell_type": "markdown",
      "source": [
        "# Exercício 15 - Tomando Decisões"
      ],
      "metadata": {
        "id": "fIKag4j6DSGM"
      }
    },
    {
      "cell_type": "code",
      "source": [
        "print(\"\"\"You enter a dark room with two doors.\n",
        "do you go through door #1 or door #2?\"\"\")\n",
        "door = input(\"> \")\n",
        "if door == \"1\":\n",
        "  print(\"there's a giant bear here eating a cheese cake.\")\n",
        "  print(\"what do you do?\")\n",
        "  print(\"1. Take the cake.\")\n",
        "  print(\"2. Scream at the bear.\")\n",
        "  bear = input(\"> \")\n",
        "\n",
        "if bear == \"1\":\n",
        "    print(\"The bear eats your face off. Good job!\")\n",
        "elif bear == \"2\":\n",
        "    print(\"The bear eats your legs off. Good job!\")\n",
        "else:\n",
        "    print(f\"Well, doing {bear} is probably better.\")\n",
        "    print(\"Bear runs away.\")\n",
        "    elif door == \"2\":\n",
        "    print(\"You stare into the endless abyss at Cthulhu's retina.\")\n",
        "    print(\"1. Blueberries.\")\n",
        "    print(\"2. Yellow jacket clothespins.\")\n",
        "    print(\"3. Understanding revolvers yelling melodies.\")\n",
        "    insanity = input(\"> \")\n",
        "    if insanity == \"1\" or insanity == \"2\":\n",
        "      print(\"Your body survives powered by a mind of jello.\")\n",
        "      print(\"Good job!\")\n",
        "    else:\n",
        "      print(\"The insanity rots your eyes into a pool of muck.\")\n",
        "      print(\"Good job!\")\n",
        "    else:\n",
        "     print(\"You stumble around and fall on a knife and die. Good job!\")"
      ],
      "metadata": {
        "colab": {
          "base_uri": "https://localhost:8080/",
          "height": 106
        },
        "id": "hR9sHLzT4NrT",
        "outputId": "dcad3cac-f589-49d8-c5de-fe65c0e31a34"
      },
      "execution_count": null,
      "outputs": [
        {
          "output_type": "error",
          "ename": "SyntaxError",
          "evalue": "invalid syntax (<ipython-input-6-c8a32e57910f>, line 17)",
          "traceback": [
            "\u001b[0;36m  File \u001b[0;32m\"<ipython-input-6-c8a32e57910f>\"\u001b[0;36m, line \u001b[0;32m17\u001b[0m\n\u001b[0;31m    elif door == \"2\":\u001b[0m\n\u001b[0m    ^\u001b[0m\n\u001b[0;31mSyntaxError\u001b[0m\u001b[0;31m:\u001b[0m invalid syntax\n"
          ]
        }
      ]
    },
    {
      "cell_type": "markdown",
      "source": [
        "# Exercício 16 - Loops e Listas"
      ],
      "metadata": {
        "id": "tMdD5HyQEbJO"
      }
    },
    {
      "cell_type": "code",
      "source": [
        "the_count = [1,2,3,4,5]\n",
        "fruits = ['apples', 'oranges', 'pears', 'apricots']\n",
        "change = [1, 'pennies', 2, 'dimes', 3, 'quarters']\n",
        "for number in the_count:\n",
        "  print(f\"This is count {number}\")\n",
        "for fruit in fruits:\n",
        "  print(f\"A fruit of type: {fruit}\")\n",
        "for i in change:\n",
        "  print(f\"I got {i}\")\n",
        "elements = []\n",
        "for i in range(0,6):\n",
        "  print(f\"Adding {i} to the list.\")\n",
        "  elements.append(i)\n",
        "for i in elements:\n",
        "  print(f\"Element was: {i}\")"
      ],
      "metadata": {
        "collapsed": true,
        "id": "IrY2vwbe4lX7"
      },
      "execution_count": null,
      "outputs": []
    },
    {
      "cell_type": "markdown",
      "source": [
        "#Exercício 17 - Loops While"
      ],
      "metadata": {
        "id": "15vBO3DkWXWG"
      }
    },
    {
      "cell_type": "code",
      "source": [
        "i=0\n",
        "numbers = []\n",
        "while i<6:\n",
        "  print(f\"At the top i is{i}\")\n",
        "  numbers.append(i)\n",
        "  i=i+1\n",
        "  print(\"Numbers now: \", numbers)\n",
        "  print(f\"At the bottom i is {i}\")\n",
        "print(\"The numbers: \")\n",
        "for num in numbers:\n",
        "  print(num)\n"
      ],
      "metadata": {
        "id": "yMTZuHo9_McL"
      },
      "execution_count": null,
      "outputs": []
    },
    {
      "cell_type": "markdown",
      "source": [
        "# Exercício 18 - Nomes, Variáveis, Códigos, Funções"
      ],
      "metadata": {
        "id": "inMLmieSWeBO"
      }
    },
    {
      "cell_type": "code",
      "source": [
        "def print_rwo(*args):\n",
        "  arg1, arg2 = args\n",
        "  print(f\"arg1: {arg1}, arg2: {arg2}\")\n",
        "def print_two_again(arg1, arg2):\n",
        "  print(f\"arg1: {arg1}, arg2: {arg2}\")\n",
        "def print_one(arg1):\n",
        "  print(f\"arg1: {arg1}\")\n",
        "def print_none():\n",
        "  print(\"I got nothin'.\")\n",
        "print_two(\"Zed\", \"Shaw\")\n",
        "print_two_again(\"Zed\", \"Shaw\")\n",
        "print_one(\"First!\")\n",
        "print_none()"
      ],
      "metadata": {
        "id": "JRzz2apgCkBP"
      },
      "execution_count": null,
      "outputs": []
    },
    {
      "cell_type": "markdown",
      "source": [
        "# Exercício 19 - Funções e Variáveis"
      ],
      "metadata": {
        "id": "KrJytJK3Wq6x"
      }
    },
    {
      "cell_type": "code",
      "source": [
        "def cheese_and_crackers(cheese_count, boxes_of_crackers):\n",
        "  print(f\"You have {cheese_count} cheeses!\")\n",
        "  print(f\"You have {boxes_of_crackers} boxes of crackers!\")\n",
        "  print(\"Man that's enough for a party!\")\n",
        "  print(\"Get a blanket.\\n\")\n",
        "print(\"We can just give the function numbers directly:\")\n",
        "cheese_and_crackers(20,30)\n",
        "print(\"OR, we can use variables from our script:\")\n",
        "amount_of_cheese = 10\n",
        "amount_of_crackers = 50\n",
        "cheese_and_crackers(amount_of_cheese, amount_of_crackers)\n",
        "\n",
        "print(\"We can even do math inside too:\")\n",
        "cheese_and_crackers(10+20, 5+6)\n",
        "print(\"And we can combine the two, variables and math:\")\n",
        "cheese_and_crackers(amount_of_cheese + 100, amount_of_crackers + 1000)\n"
      ],
      "metadata": {
        "id": "K7IHDzZ7DcYP"
      },
      "execution_count": null,
      "outputs": []
    },
    {
      "cell_type": "markdown",
      "source": [
        "# Exercício 20 - As Funções podem retornar algo"
      ],
      "metadata": {
        "id": "KseIO8QVW_Fm"
      }
    },
    {
      "cell_type": "code",
      "source": [
        "def add(a,b):\n",
        "  print(f\"ADDING {a} + {b}\")\n",
        "  return a+b\n",
        "def subtract(a,b):\n",
        "  print(f\"SUBTRACTING {a}-{b}\")\n",
        "  return a-b\n",
        "def multiply(a,b):\n",
        "  print(f\"MULTIPLYING {a}*{b}\")\n",
        "  return a*b\n",
        "def divide(a,b):\n",
        "  print(f\"DIVIDING{a}/{b}\")\n",
        "  return a/b\n",
        "\n",
        "print(\"Let's do some math with just functions!\")\n",
        "age=add(30,5)\n",
        "height=subtract(78,4)\n",
        "weight=multiply(90,2)\n",
        "iq=divide(100,2)\n",
        "print(f\"Age: {age}, Height: {height}, Weight: {weight}, IQ: {iq}\")\n",
        "\n",
        "print(\"Here is the puzzle\")\n",
        "what=add(age, subtract(height, multiply(weight, divide(iq,2))))\n",
        "print(\"That becomes:\", what,\"Can you do it by hand?\")\n",
        "\n"
      ],
      "metadata": {
        "colab": {
          "base_uri": "https://localhost:8080/"
        },
        "id": "ow047KzKEmrV",
        "outputId": "a1227ddd-1df4-430b-dd00-2829cd537e56"
      },
      "execution_count": null,
      "outputs": [
        {
          "output_type": "stream",
          "name": "stdout",
          "text": [
            "Let's do some math with just functions!\n",
            "ADDING 30 + 5\n",
            "SUBTRACTING 78-4\n",
            "MULTIPLYING 90*2\n",
            "DIVIDING100/2\n",
            "Age: 35, Height: 74, Weight: 180, IQ: 50.0\n",
            "Here is the puzzle\n",
            "DIVIDING50.0/2\n",
            "MULTIPLYING 180*25.0\n",
            "SUBTRACTING 74-4500.0\n",
            "ADDING 35 + -4426.0\n",
            "That becomes: -4391.0 Can you do it by hand?\n"
          ]
        }
      ]
    },
    {
      "cell_type": "markdown",
      "source": [
        "#Exercício 21 - Parâmetros, Descompactação e Variáveis"
      ],
      "metadata": {
        "id": "BllRe1hzXIsG"
      }
    },
    {
      "cell_type": "code",
      "source": [
        "from sys import argv\n",
        "script, first, second, third = argv\n",
        "print(\"the script is called:\", script)\n",
        "print(\"your first variable is:\",first)\n",
        "print(\"your second variable is:\", second)\n",
        "print(\"your third variable is\", third)"
      ],
      "metadata": {
        "id": "yXkHkAUmKgFe",
        "colab": {
          "base_uri": "https://localhost:8080/",
          "height": 211
        },
        "outputId": "7e7373ce-61a3-471e-935f-320e7f912876"
      },
      "execution_count": null,
      "outputs": [
        {
          "output_type": "error",
          "ename": "ValueError",
          "evalue": "not enough values to unpack (expected 4, got 3)",
          "traceback": [
            "\u001b[0;31m---------------------------------------------------------------------------\u001b[0m",
            "\u001b[0;31mValueError\u001b[0m                                Traceback (most recent call last)",
            "\u001b[0;32m<ipython-input-5-3e27a94d5899>\u001b[0m in \u001b[0;36m<cell line: 0>\u001b[0;34m()\u001b[0m\n\u001b[1;32m      1\u001b[0m \u001b[0;32mfrom\u001b[0m \u001b[0msys\u001b[0m \u001b[0;32mimport\u001b[0m \u001b[0margv\u001b[0m\u001b[0;34m\u001b[0m\u001b[0;34m\u001b[0m\u001b[0m\n\u001b[0;32m----> 2\u001b[0;31m \u001b[0mscript\u001b[0m\u001b[0;34m,\u001b[0m \u001b[0mfirst\u001b[0m\u001b[0;34m,\u001b[0m \u001b[0msecond\u001b[0m\u001b[0;34m,\u001b[0m \u001b[0mthird\u001b[0m \u001b[0;34m=\u001b[0m \u001b[0margv\u001b[0m\u001b[0;34m\u001b[0m\u001b[0;34m\u001b[0m\u001b[0m\n\u001b[0m\u001b[1;32m      3\u001b[0m \u001b[0mprint\u001b[0m\u001b[0;34m(\u001b[0m\u001b[0;34m\"the script is called:\"\u001b[0m\u001b[0;34m,\u001b[0m \u001b[0mscript\u001b[0m\u001b[0;34m)\u001b[0m\u001b[0;34m\u001b[0m\u001b[0;34m\u001b[0m\u001b[0m\n\u001b[1;32m      4\u001b[0m \u001b[0mprint\u001b[0m\u001b[0;34m(\u001b[0m\u001b[0;34m\"your first variable is:\"\u001b[0m\u001b[0;34m,\u001b[0m\u001b[0mfirst\u001b[0m\u001b[0;34m)\u001b[0m\u001b[0;34m\u001b[0m\u001b[0;34m\u001b[0m\u001b[0m\n\u001b[1;32m      5\u001b[0m \u001b[0mprint\u001b[0m\u001b[0;34m(\u001b[0m\u001b[0;34m\"your second variable is:\"\u001b[0m\u001b[0;34m,\u001b[0m \u001b[0msecond\u001b[0m\u001b[0;34m)\u001b[0m\u001b[0;34m\u001b[0m\u001b[0;34m\u001b[0m\u001b[0m\n",
            "\u001b[0;31mValueError\u001b[0m: not enough values to unpack (expected 4, got 3)"
          ]
        }
      ]
    },
    {
      "cell_type": "markdown",
      "source": [
        "# Exercício 22 - Parâmetros, Descompactação e Variáveis"
      ],
      "metadata": {
        "id": "wpsgrmZVXQoe"
      }
    },
    {
      "cell_type": "code",
      "source": [
        "from sys import argv\n",
        "script, user_name = argv\n",
        "prompt = '>'\n",
        "print(f\"hi {user_name} \")"
      ],
      "metadata": {
        "id": "BTWV9FdOqrIk"
      },
      "execution_count": null,
      "outputs": []
    },
    {
      "cell_type": "markdown",
      "source": [
        "# Objeto de arquivo"
      ],
      "metadata": {
        "id": "yIwV3ocGsetw"
      }
    },
    {
      "cell_type": "markdown",
      "source": [
        "Um caminho absoluto especifica a localização de um arquivo ou diretório de forma completa, começando a partir da raiz do sistema de arquivos. Ele inclui todo o caminho necessário para acessar o arquivo, independentemente de onde você esteja no sistema.(não tem erro)\n",
        "Um caminho relativo é especificado em relação ao diretório em que você está no momento. Ou seja, ele não começa a partir da raiz, mas de um ponto de referência, como o diretório atual ou outro diretório específico.\n",
        "\n",
        "Para referenciar um objeto de arquivo, que não está no mesmo diretório, então será necessário referenciá-lo com caminho absoluto.\n",
        "Um objeto de arquivo serve para manipular um arquivo dentro de um código. Sua manipulação envolve a abertura (open()), seu acesso (leitura, escrita, append e etc) e por fim, o seu fechamento. (close())\n",
        "\n"
      ],
      "metadata": {
        "id": "rhu9Zn8Xq6H1"
      }
    },
    {
      "cell_type": "code",
      "source": [
        "arquivotal=open(texto.texto) #arquivo a ser executado no argumento. Nesse caso, está referenciado com caminho\n",
        "#variavel por estar no mesmo diretório.\n",
        "#o arquivo é referenciado, aberto com open e depois é definida a variável. Desse modo, pode-se manipular o objeto.\n",
        "#Objetivamente, a estrutura de referenciação envolve:\n",
        "variavel=open(arquivo, modo, codificação)\n",
        "#Exemplo\n",
        "def leituraarquivo(\"texto.txt\", \"r\", encoding=\"utf-8\")\n",
        "conteudo=arquivo.read() #leitura dele\n",
        "arquivo.close()#fechou\n",
        "return conteudo"
      ],
      "metadata": {
        "id": "tHuytAEPvPET"
      },
      "execution_count": null,
      "outputs": []
    },
    {
      "cell_type": "markdown",
      "source": [
        "Modos de manipulação desse objeto de arquivo.\n",
        "r- leitura\n",
        "a-adição no final de texto\n",
        "b - arquivo binário\n",
        "w- escrita\n",
        "t- texto"
      ],
      "metadata": {
        "id": "0UsLPpW-wXjl"
      }
    },
    {
      "cell_type": "markdown",
      "source": [
        "Metodos são funções aplicadas para determinados objetos.\n",
        "Ex: .Read() que só funciona para objetos tipo arquivo. Tal como .format() para objetos do tipo strig"
      ],
      "metadata": {
        "id": "_nM7UCUv0glN"
      }
    },
    {
      "cell_type": "code",
      "source": [
        ".split\n"
      ],
      "metadata": {
        "id": "KeMaZFVV46wX"
      },
      "execution_count": null,
      "outputs": []
    },
    {
      "cell_type": "code",
      "source": [
        "from sys import argv\n",
        "script,filename = argvtxt = open(filename)\n",
        "\n",
        "print(f\"here's your file{filename}:\")\n",
        "print(txt.read())\n",
        "\n",
        "print(\"Type the filename again:\")\n",
        "file_again = input(\">\")\n",
        "txt_again = open(file_again)\n",
        "print(txt_again.read())"
      ],
      "metadata": {
        "id": "DAX9fDfOACFj"
      },
      "execution_count": null,
      "outputs": []
    },
    {
      "cell_type": "code",
      "source": [
        "from sys import argv\n",
        "script, filename = argv\n",
        "print(f\"We're going to erase {filename}.\")\n",
        "print(\"If you don't want that, hit CTRL-C (^C).\")\n",
        "print(\"If you do want that, hit RETURN.\")\n",
        "input(\"?\")\n",
        "print(\"Opening the file...\")\n",
        "target = open(filename, 'w')\n",
        "print(\"Truncating the file. Goodbye!\")\n",
        "target.truncate()\n",
        "print(\"Now I'm going to ask you for three lines.\")\n",
        "line1 = input(\"line 1: \")\n",
        "line2 = input(\"line 2: \")\n",
        "line3 = input(\"line 3: \")\n",
        "print(\"I'm going to write these to the file.\")\n",
        "target.write(line1)\n",
        "target.write(\"\\n\")\n",
        "target.write(line2)\n",
        "target.write(\"\\n\")\n",
        "target.write(line3)\n",
        "target.write(\"\\n\")\n",
        "\n",
        "print(\"And finally, we close it.\")\n",
        "target.close()\n"
      ],
      "metadata": {
        "id": "cKF0YcpBAgpr"
      },
      "execution_count": null,
      "outputs": []
    }
  ]
}